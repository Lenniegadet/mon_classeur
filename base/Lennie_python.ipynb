{
 "cells": [
  {
   "cell_type": "code",
   "execution_count": 1,
   "metadata": {},
   "outputs": [
    {
     "data": {
      "text/plain": [
       "2"
      ]
     },
     "execution_count": 1,
     "metadata": {},
     "output_type": "execute_result"
    }
   ],
   "source": [
    "1+1"
   ]
  },
  {
   "cell_type": "code",
   "execution_count": 2,
   "metadata": {},
   "outputs": [
    {
     "name": "stdout",
     "output_type": "stream",
     "text": [
      "Help on built-in function bin in module builtins:\n",
      "\n",
      "bin(number, /)\n",
      "    Return the binary representation of an integer.\n",
      "    \n",
      "    >>> bin(2796202)\n",
      "    '0b1010101010101010101010'\n",
      "\n"
     ]
    }
   ],
   "source": [
    "help('bin')"
   ]
  },
  {
   "cell_type": "code",
   "execution_count": 3,
   "metadata": {},
   "outputs": [
    {
     "ename": "SyntaxError",
     "evalue": "invalid syntax (1409896223.py, line 1)",
     "output_type": "error",
     "traceback": [
      "\u001b[0;36m  Cell \u001b[0;32mIn [3], line 1\u001b[0;36m\u001b[0m\n\u001b[0;31m    bin(23/)\u001b[0m\n\u001b[0m           ^\u001b[0m\n\u001b[0;31mSyntaxError\u001b[0m\u001b[0;31m:\u001b[0m invalid syntax\n"
     ]
    }
   ],
   "source": [
    "bin(23/)"
   ]
  },
  {
   "cell_type": "code",
   "execution_count": 4,
   "metadata": {},
   "outputs": [
    {
     "data": {
      "text/plain": [
       "'0b10111'"
      ]
     },
     "execution_count": 4,
     "metadata": {},
     "output_type": "execute_result"
    }
   ],
   "source": [
    "bin(23)"
   ]
  },
  {
   "cell_type": "code",
   "execution_count": 5,
   "metadata": {},
   "outputs": [
    {
     "ename": "SyntaxError",
     "evalue": "invalid syntax (3289962631.py, line 1)",
     "output_type": "error",
     "traceback": [
      "\u001b[0;36m  Cell \u001b[0;32mIn [5], line 1\u001b[0;36m\u001b[0m\n\u001b[0;31m    bin =\u001b[0m\n\u001b[0m          ^\u001b[0m\n\u001b[0;31mSyntaxError\u001b[0m\u001b[0;31m:\u001b[0m invalid syntax\n"
     ]
    }
   ],
   "source": [
    "bin = \n",
    "for loop in:\n",
    "    "
   ]
  },
  {
   "cell_type": "code",
   "execution_count": null,
   "metadata": {},
   "outputs": [],
   "source": [
    "|         |       |       |       |       |       |       |       |       |\n",
    "|         |       |       |       |       |       |       |       |       |\n",
    "|         |       |       |       |       |       |       |       |       |"
   ]
  }
 ],
 "metadata": {
  "kernelspec": {
   "display_name": "Python 3.8.13 64-bit ('shims')",
   "language": "python",
   "name": "python3"
  },
  "language_info": {
   "codemirror_mode": {
    "name": "ipython",
    "version": 3
   },
   "file_extension": ".py",
   "mimetype": "text/x-python",
   "name": "python",
   "nbconvert_exporter": "python",
   "pygments_lexer": "ipython3",
   "version": "3.8.13"
  },
  "orig_nbformat": 4,
  "vscode": {
   "interpreter": {
    "hash": "9ac03a0a6051494cc606d484d27d20fce22fb7b4d169f583271e11d5ba46a56e"
   }
  }
 },
 "nbformat": 4,
 "nbformat_minor": 2
}

| dec\bin | $128$ | $64$  | $32$  | $16$  |  $8$  |  $4$  |  $2$  |  $1$  |
|---------|:-----:|:-----:|:-----:|:-----:|:-----:|:-----:|:-----:|:-----:|
| $1$     |  $_$  |  $_$  |  $_$  |  $_$  |  $_$  |  $_$  |  $_$  |  $_$  |
| $2$     |  $_$  |  $_$  |  $_$  |  $_$  |  $_$  |  $_$  |  $_$  |  $_$  |
| $3$     |  $_$  |  $_$  |  $_$  |  $_$  |  $_$  |  $_$  |  $_$  |  $_$  |
| $4$     |  $_$  |  $_$  |  $_$  |  $_$  |  $_$  |  $_$  |  $_$  |  $_$  |
| $5$     |  $_$  |  $_$  |  $_$  |  $_$  |  $_$  |  $_$  |  $_$  |  $_$  |
| $6$     |  $_$  |  $_$  |  $_$  |  $_$  |  $_$  |  $_$  |  $_$  |  $_$  |
| $7$     |  $_$  |  $_$  |  $_$  |  $_$  |  $_$  |  $_$  |  $_$  |  $_$  |
| $8$     |  $_$  |  $_$  |  $_$  |  $_$  |  $_$  |  $_$  |  $_$  |  $_$  |
| $9$     |  $_$  |  $_$  |  $_$  |  $_$  |  $_$  |  $_$  |  $_$  |  $_$  |
| $10$    |  $_$  |  $_$  |  $_$  |  $_$  |  $_$  |  $_$  |  $_$  |  $_$  |
| $11$    |  $_$  |  $_$  |  $_$  |  $_$  |  $_$  |  $_$  |  $_$  |  $_$  |
| $12$    |  $_$  |  $_$  |  $_$  |  $_$  |  $_$  |  $_$  |  $_$  |  $_$  |
| $13$    |  $_$  |  $_$  |  $_$  |  $_$  |  $_$  |  $_$  |  $_$  |  $_$  |
| $14$    |  $_$  |  $_$  |  $_$  |  $_$  |  $_$  |  $_$  |  $_$  |  $_$  |
| $15$    |  $_$  |  $_$  |  $_$  |  $_$  |  $_$  |  $_$  |  $_$  |  $_$  |
| $16$    |  $_$  |  $_$  |  $_$  |  $_$  |  $_$  |  $_$  |  $_$  |  $_$  |
| $20$    |  $_$  |  $_$  |  $_$  |  $_$  |  $_$  |  $_$  |  $_$  |  $_$  |
| $50$    |  $_$  |  $_$  |  $_$  |  $_$  |  $_$  |  $_$  |  $_$  |  $_$  |
| $100$   |  $_$  |  $_$  |  $_$  |  $_$  |  $_$  |  $_$  |  $_$  |  $_$  |
| $200$   |  $_$  |  $_$  |  $_$  |  $_$  |  $_$  |  $_$  |  $_$  |  $_$  |
| $255$   |  $_$  |  $_$  |  $_$  |  $_$  |  $_$  |  $_$  |  $_$  |  $_$  |
