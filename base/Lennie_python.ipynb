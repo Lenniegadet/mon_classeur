{
 "cells": [
  {
   "cell_type": "code",
   "execution_count": 1,
   "metadata": {},
   "outputs": [
    {
     "data": {
      "text/plain": [
       "2"
      ]
     },
     "execution_count": 1,
     "metadata": {},
     "output_type": "execute_result"
    }
   ],
   "source": [
    "1+1"
   ]
  },
  {
   "cell_type": "code",
   "execution_count": 14,
   "metadata": {},
   "outputs": [
    {
     "name": "stdout",
     "output_type": "stream",
     "text": [
      "Help on built-in function bin in module builtins:\n",
      "\n",
      "bin(number, /)\n",
      "    Return the binary representation of an integer.\n",
      "    \n",
      "    >>> bin(2796202)\n",
      "    '0b1010101010101010101010'\n",
      "\n"
     ]
    }
   ],
   "source": [
    "help('bin')"
   ]
  },
  {
   "cell_type": "code",
   "execution_count": 3,
   "metadata": {},
   "outputs": [
    {
     "data": {
      "text/plain": [
       "'0b1111'"
      ]
     },
     "execution_count": 3,
     "metadata": {},
     "output_type": "execute_result"
    }
   ],
   "source": [
    "bin(15)"
   ]
  },
  {
   "cell_type": "markdown",
   "metadata": {},
   "source": [
    "| dec\\bin | $128$ | $64$  | $32$  | $16$  |  $8$  |  $4$  |  $2$  |  $1$  |\n",
    "|---------|:-----:|:-----:|:-----:|:-----:|:-----:|:-----:|:-----:|:-----:|\n",
    "| $1$     |  $_$  |  $_$  |  $_$  |  $_$  |  $_$  |  $_$  |  $_$  |  $_$  |\n",
    "| $2$     |  $_$  |  $_$  |  $_$  |  $_$  |  $_$  |  $_$  |  $_$  |  $_$  |\n",
    "| $3$     |  $_$  |  $_$  |  $_$  |  $_$  |  $_$  |  $_$  |  $_$  |  $_$  |\n",
    "| $4$     |  $_$  |  $_$  |  $_$  |  $_$  |  $_$  |  $_$  |  $_$  |  $_$  |\n",
    "| $5$     |  $_$  |  $_$  |  $_$  |  $_$  |  $_$  |  $_$  |  $_$  |  $_$  |\n",
    "| $6$     |  $_$  |  $_$  |  $_$  |  $_$  |  $_$  |  $_$  |  $_$  |  $_$  |\n",
    "| $7$     |  $_$  |  $_$  |  $_$  |  $_$  |  $_$  |  $_$  |  $_$  |  $_$  |\n",
    "| $8$     |  $_$  |  $_$  |  $_$  |  $_$  |  $_$  |  $_$  |  $_$  |  $_$  |\n",
    "| $9$     |  $_$  |  $_$  |  $_$  |  $_$  |  $_$  |  $_$  |  $_$  |  $_$  |\n",
    "| $10$    |  $_$  |  $_$  |  $_$  |  $_$  |  $_$  |  $_$  |  $_$  |  $_$  |\n",
    "| $11$    |  $_$  |  $_$  |  $_$  |  $_$  |  $_$  |  $_$  |  $_$  |  $_$  |\n",
    "| $12$    |  $_$  |  $_$  |  $_$  |  $_$  |  $_$  |  $_$  |  $_$  |  $_$  |\n",
    "| $13$    |  $_$  |  $_$  |  $_$  |  $_$  |  $_$  |  $_$  |  $_$  |  $_$  |\n",
    "| $14$    |  $_$  |  $_$  |  $_$  |  $_$  |  $_$  |  $_$  |  $_$  |  $_$  |\n",
    "| $15$    |  $_$  |  $_$  |  $_$  |  $_$  |  $_$  |  $_$  |  $_$  |  $_$  |\n",
    "| $16$    |  $_$  |  $_$  |  $_$  |  $_$  |  $_$  |  $_$  |  $_$  |  $_$  |\n",
    "| $20$    |  $_$  |  $_$  |  $_$  |  $_$  |  $_$  |  $_$  |  $_$  |  $_$  |\n",
    "| $50$    |  $_$  |  $_$  |  $_$  |  $_$  |  $_$  |  $_$  |  $_$  |  $_$  |\n",
    "| $100$   |  $_$  |  $_$  |  $_$  |  $_$  |  $_$  |  $_$  |  $_$  |  $_$  |\n",
    "| $200$   |  $_$  |  $_$  |  $_$  |  $_$  |  $_$  |  $_$  |  $_$  |  $_$  |\n",
    "| $255$   |  $_$  |  $_$  |  $_$  |  $_$  |  $_$  |  $_$  |  $_$  |  $_$  |"
   ]
  }
 ],
 "metadata": {
  "kernelspec": {
   "display_name": "Python 3.8.13 64-bit ('shims')",
   "language": "python",
   "name": "python3"
  },
  "language_info": {
   "codemirror_mode": {
    "name": "ipython",
    "version": 3
   },
   "file_extension": ".py",
   "mimetype": "text/x-python",
   "name": "python",
   "nbconvert_exporter": "python",
   "pygments_lexer": "ipython3",
   "version": "3.8.13"
  },
  "orig_nbformat": 4,
  "vscode": {
   "interpreter": {
    "hash": "9ac03a0a6051494cc606d484d27d20fce22fb7b4d169f583271e11d5ba46a56e"
   }
  }
 },
 "nbformat": 4,
 "nbformat_minor": 2
}
