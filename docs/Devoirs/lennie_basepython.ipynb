{
 "cells": [
  {
   "cell_type": "code",
   "execution_count": 1,
   "metadata": {},
   "outputs": [
    {
     "data": {
      "text/plain": [
       "2"
      ]
     },
     "execution_count": 1,
     "metadata": {},
     "output_type": "execute_result"
    }
   ],
   "source": [
    "1+1"
   ]
  },
  {
   "cell_type": "markdown",
   "metadata": {},
   "source": [
    "# Mon Notebook\n",
    "## Chaines :\n",
    "\n",
    "Ex: \n",
    "\n"
   ]
  },
  {
   "cell_type": "code",
   "execution_count": 2,
   "metadata": {},
   "outputs": [
    {
     "data": {
      "text/plain": [
       "'hello'"
      ]
     },
     "execution_count": 2,
     "metadata": {},
     "output_type": "execute_result"
    }
   ],
   "source": [
    "'hello'"
   ]
  },
  {
   "cell_type": "markdown",
   "metadata": {},
   "source": [
    "mot = hello   \n",
    "guillemets = indique que c´est une chaine de caractères\n",
    "\n",
    "Possibilité d´additionner des chaines\n",
    "\n",
    "Ex: \n"
   ]
  },
  {
   "cell_type": "code",
   "execution_count": 1,
   "metadata": {},
   "outputs": [
    {
     "data": {
      "text/plain": [
       "'HelloWorld'"
      ]
     },
     "execution_count": 1,
     "metadata": {},
     "output_type": "execute_result"
    }
   ],
   "source": [
    "'Hello' + 'World'"
   ]
  },
  {
   "cell_type": "markdown",
   "metadata": {},
   "source": [
    "\n",
    "## Variables :\n",
    "\n",
    "Ex: \n",
    "\n"
   ]
  },
  {
   "cell_type": "code",
   "execution_count": 6,
   "metadata": {},
   "outputs": [
    {
     "name": "stdout",
     "output_type": "stream",
     "text": [
      "hello\n"
     ]
    }
   ],
   "source": [
    "mot = 'hello' \n",
    "print(mot) "
   ]
  },
  {
   "cell_type": "markdown",
   "metadata": {},
   "source": [
    "\n",
    "car la variable est définie\n",
    "\n",
    "Ex: "
   ]
  },
  {
   "cell_type": "code",
   "execution_count": 4,
   "metadata": {},
   "outputs": [
    {
     "ename": "NameError",
     "evalue": "name 'soleil' is not defined",
     "output_type": "error",
     "traceback": [
      "\u001b[0;31m---------------------------------------------------------------------------\u001b[0m",
      "\u001b[0;31mNameError\u001b[0m                                 Traceback (most recent call last)",
      "Cell \u001b[0;32mIn [4], line 1\u001b[0m\n\u001b[0;32m----> 1\u001b[0m \u001b[43msoleil\u001b[49m\n",
      "\u001b[0;31mNameError\u001b[0m: name 'soleil' is not defined"
     ]
    }
   ],
   "source": [
    "soleil "
   ]
  },
  {
   "cell_type": "markdown",
   "metadata": {},
   "source": [
    "car la varaible soleil n´est pas définie, Python cherche sa valeur\n",
    "\n",
    "Ex:"
   ]
  },
  {
   "cell_type": "code",
   "execution_count": 9,
   "metadata": {},
   "outputs": [
    {
     "name": "stdout",
     "output_type": "stream",
     "text": [
      "hello Lennie\n"
     ]
    }
   ],
   "source": [
    "mot = 'hello'  \n",
    "votre_nom = 'Lennie' \n",
    "print(mot + ' ' + votre_nom) "
   ]
  },
  {
   "cell_type": "markdown",
   "metadata": {},
   "source": [
    "## Boucle for :\n",
    "\n",
    "for <variable> in <itérable> : <code à repéter>\n",
    "Ex: "
   ]
  },
  {
   "cell_type": "code",
   "execution_count": 14,
   "metadata": {},
   "outputs": [
    {
     "name": "stdout",
     "output_type": "stream",
     "text": [
      "-world\n",
      "-world\n",
      "-world\n",
      "-world\n",
      "-world\n"
     ]
    }
   ],
   "source": [
    "nom = 'world'   \n",
    "ligne = '-'  \n",
    "for caractere in nom: \n",
    "    print(ligne + nom)"
   ]
  },
  {
   "cell_type": "markdown",
   "metadata": {},
   "source": [
    "On peut aussi modifier le script pour que les caractères soient inversés :\n",
    "  Il suffit d´inverser caractere et ligne dans <ligne = ligne + caractere> ce qui donnerais <ligne = caractere + ligne>\n",
    "  \n",
    "Ex: "
   ]
  },
  {
   "cell_type": "code",
   "execution_count": 15,
   "metadata": {},
   "outputs": [
    {
     "name": "stdout",
     "output_type": "stream",
     "text": [
      "world-\n",
      "world-\n",
      "world-\n",
      "world-\n",
      "world-\n"
     ]
    }
   ],
   "source": [
    "nom = 'world'   \n",
    "ligne = '-'  \n",
    "for caractere in nom: \n",
    "    print(nom + ligne)"
   ]
  },
  {
   "cell_type": "markdown",
   "metadata": {},
   "source": [
    "## Construction de chaines :\n",
    "  \n",
    "Ex: \n",
    "  \n",
    "nom = 'World'   \n",
    "  \n",
    "ligne = ' '    \n",
    "  \n",
    "for caractere in nom:\n",
    "  \n",
    "    ligne = ligne + caractere\n",
    "  \n",
    "    print(ligne)\n",
    "  \n",
    "-->\n",
    "nom = 'World'   \n",
    "  \n",
    "ligne = ' '   \n",
    "  \n",
    "for caractere in nom:\n",
    "  \n",
    "    ligne = caractere + ligne\n",
    "  \n",
    "    print(ligne)\n",
    "  \n",
    "-->\n",
    "  \n",
    "  W\n",
    "  \n",
    "  oW\n",
    "  \n",
    "  roW\n",
    "  \n",
    "  lroW\n",
    "  \n",
    "  dlroW\n",
    "\n",
    "Au passage, le caractere _ dans une boucle tel que for caractere in ...: est égale à caractere, on peut donc le remplacer par _. Cela ne change pas l'exécution du script, mais est utile au lecteur.\n",
    "\n",
    "## Structures conditionnellles :\n",
    "  \n",
    "Les deux seuls booléens: True et False.\n",
    "Les booléens sont généralement utilisés dans des structures if, quand l'ordinateur voit if <condition>:, il vérifie si <condition> est vraie (True). \n",
    "  \n",
    "Si c'est le cas, il exécute le corps : un bloc d'instructions. Sinon, il l'évite et passe à la suite du script.\n",
    "  \n",
    "Ex:\n",
    "  \n",
    "phrase = 'Hello World'\n",
    "  \n",
    "ravi = True\n",
    "  \n",
    "if ravi:\n",
    "  \n",
    "    phrase += '!'\n",
    "  \n",
    "print(phrase)\n",
    "  \n",
    "--> \n",
    "  \n",
    "  Hello World!\n",
    "  \n",
    "car ravi est vrai(True), mais si on change True en False comme ceci:\n",
    "  \n",
    "Ex:\n",
    "  \n",
    "phrase = 'Hello World'\n",
    "  \n",
    "ravi = True\n",
    "  \n",
    "if ravi:\n",
    "  \n",
    "    phrase += '!'\n",
    "  \n",
    "print(phrase)\n",
    "  \n",
    "-->\n",
    "  \n",
    "  Hello World\n",
    "  \n",
    "car ravi est faux, l´ordinateur n´execute pas la boucle if.\n",
    "  \n",
    "## Structures imbriquées :\n",
    "  \n",
    "Les structures de contrôle for ou conditionnelles if comportent un bloc d'instructions internes.\n",
    "  \n",
    "Ex d'une boucle for à l'intérieur d'une structure if :\n",
    "  \n",
    "phrase = 'Hello World'\n",
    "  \n",
    "ravi = True\n",
    "\n",
    "if ravi:\n",
    "  \n",
    "    nouvelle_phrase = ''\n",
    "  \n",
    "    for caractere in phrase:\n",
    "  \n",
    "        nouvelle_phrase += caractere + '!'\n",
    "  \n",
    "    phrase = nouvelle_phrase\n",
    "    \n",
    "print(phrase)\n",
    "  \n",
    "-->\n",
    "  \n",
    "  H!e!l!l!o! !W!o!r!l!d!\n",
    "  \n",
    "Il est aussi possible de créer une structure if à l´intérieur d´un boucle for.\n",
    "  \n",
    "## If et else :\n",
    "  \n",
    "Le bloc else est comme un « ou sinon ... » : si la condition du if n'est pas respectée, alors les instructions dans le bloc else seront exécutées. Que la condition soit vérifiée ou non, l'un ou l'autre des deux blocs sera obligatoirement exécuté.\n",
    "  \n",
    "Ex:\n",
    "  \n",
    "condition = True\n",
    "  \n",
    "if condition:\n",
    "  \n",
    "    print('Oui')\n",
    "  \n",
    "else:\n",
    "  \n",
    "    print('Non')\n",
    "  \n",
    "--> \n",
    "  \n",
    "  Oui\n",
    "  \n",
    "car le bloc if est vérifié. Mais si on change True par False comme ceci :\n",
    "  \n",
    "condition = False\n",
    "  \n",
    "if condition:\n",
    "  \n",
    "    print('Oui')\n",
    "  \n",
    "else:\n",
    "  \n",
    "    print('Non')\n",
    "  \n",
    "-->\n",
    "  \n",
    "  Non\n",
    "  \n",
    "On peut donc voir que le programme execute le bloc else car le bloc if n´est pas vérifié."
   ]
  }
 ],
 "metadata": {
  "kernelspec": {
   "display_name": "Python 3.8.13 64-bit ('shims')",
   "language": "python",
   "name": "python3"
  },
  "language_info": {
   "codemirror_mode": {
    "name": "ipython",
    "version": 3
   },
   "file_extension": ".py",
   "mimetype": "text/x-python",
   "name": "python",
   "nbconvert_exporter": "python",
   "pygments_lexer": "ipython3",
   "version": "3.8.13"
  },
  "orig_nbformat": 4,
  "vscode": {
   "interpreter": {
    "hash": "9ac03a0a6051494cc606d484d27d20fce22fb7b4d169f583271e11d5ba46a56e"
   }
  }
 },
 "nbformat": 4,
 "nbformat_minor": 2
}
